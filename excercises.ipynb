{
  "cells": [
    {
      "cell_type": "markdown",
      "metadata": {
        "id": "view-in-github",
        "colab_type": "text"
      },
      "source": [
        "<a href=\"https://colab.research.google.com/github/FVaisfeld/datastructures/blob/main/excercises.ipynb\" target=\"_parent\"><img src=\"https://colab.research.google.com/assets/colab-badge.svg\" alt=\"Open In Colab\"/></a>"
      ]
    },
    {
      "cell_type": "code",
      "source": [
        "#!/usr/bin/python\n",
        "import sys\n",
        "import numpy as np\n",
        "\n",
        "MIN_INT = -sys.maxsize - 1\n",
        "\n",
        "class Node:\n",
        "    def __init__(self, val):\n",
        "        self.l = None\n",
        "        self.r = None\n",
        "        self.v = val\n",
        "\n",
        "class Tree:\n",
        "    def __init__(self):\n",
        "        self.root = None\n",
        "\n",
        "    def getRoot(self):\n",
        "        return self.root\n",
        "\n",
        "    def add(self, val):\n",
        "        if self.root is None:\n",
        "            self.root = Node(val)\n",
        "        else:\n",
        "            self._add(val, self.root)\n",
        "\n",
        "    def _add(self, val, node):\n",
        "        if val < node.v:\n",
        "            if node.l is not None:\n",
        "                self._add(val, node.l)\n",
        "            else:\n",
        "                node.l = Node(val)\n",
        "        else:\n",
        "            if node.r is not None:\n",
        "                self._add(val, node.r)\n",
        "            else:\n",
        "                node.r = Node(val)\n",
        "\n",
        "    def find(self, val):\n",
        "        if self.root is not None:\n",
        "            return self._find(val, self.root)\n",
        "        else:\n",
        "            return None\n",
        "\n",
        "    def _find(self, val, node):\n",
        "        if val == node.v:\n",
        "            return node\n",
        "        elif (val < node.v and node.l is not None):\n",
        "            return self._find(val, node.l)\n",
        "        elif (val > node.v and node.r is not None):\n",
        "            return self._find(val, node.r)\n",
        "\n",
        "    def deleteTree(self):\n",
        "        # garbage collector will do this for us. \n",
        "        self.root = None\n",
        "\n",
        "    def printTree(self):\n",
        "        if self.root is not None:\n",
        "            self._printTree(self.root)\n",
        "\n",
        "    def _printTree(self, node):\n",
        "        if node is not None:\n",
        "            self._printTree(node.l)\n",
        "            print(str(node.v) + ' ')\n",
        "            self._printTree(node.r)\n",
        "\n",
        "    def checkHeight(root):\n",
        "      if node == null: return -1\n",
        "\n",
        "      leftHeight = checkHeight(root.l)\n",
        "      if leftHeight == MIN_INT: return MIN_INT\n",
        "\n",
        "      rightHeight = checkHeight(root.r)\n",
        "      if rightHeight == MIN_INT: return MIN_INT\n",
        "\n",
        "      diffHeight = abs(leftHeight-rightHeight)\n",
        "      if diffHeight>1:\n",
        "        return checkHeight\n",
        "      else: \n",
        "        return np.max(leftHeight,rightHeight)\n",
        "\n",
        "    def isBalanced(root):\n",
        "      return checkHeight(root)!=MIN_INT\n",
        "\n"
      ],
      "metadata": {
        "id": "keVjeyUfXA2_"
      },
      "execution_count": 13,
      "outputs": []
    },
    {
      "cell_type": "code",
      "source": [
        "#     3\n",
        "# 0     4\n",
        "#   2      8\n",
        "tree = Tree()\n",
        "tree.add(3)\n",
        "tree.add(4)\n",
        "tree.add(0)\n",
        "tree.add(8)\n",
        "tree.add(2)\n",
        "#tree.printTree()\n",
        "#print(tree.find(3).v)\n",
        "#print(tree.find(10))\n",
        "#tree.deleteTree()\n",
        "tree.printTree()\n",
        "treeisBalanced(3)"
      ],
      "metadata": {
        "colab": {
          "base_uri": "https://localhost:8080/"
        },
        "id": "bgNk54E-XDIF",
        "outputId": "0b4af7fc-af88-4868-cb17-f9fdd0821f81"
      },
      "execution_count": 14,
      "outputs": [
        {
          "output_type": "stream",
          "name": "stdout",
          "text": [
            "0 \n",
            "2 \n",
            "3 \n",
            "4 \n",
            "8 \n"
          ]
        }
      ]
    },
    {
      "cell_type": "markdown",
      "source": [
        "Heapify"
      ],
      "metadata": {
        "id": "lH8ni-W7JtMu"
      }
    },
    {
      "cell_type": "code",
      "source": [
        "def MaxHeapify(arr, i, N):\n",
        "    l = 2 * i + 1\n",
        "    r = 2 * i + 2\n",
        "    largest = i\n",
        "    if l < N and arr[l] > arr[i]:\n",
        "        largest = l\n",
        "    if r < N and arr[r] > arr[largest]:\n",
        "        largest = r\n",
        "    if largest != i:\n",
        "        arr[i], arr[largest] = arr[largest], arr[i]\n",
        "        MaxHeapify(arr, largest, N)\n",
        " \n",
        "# This function basically builds max heap\n",
        " \n",
        " \n",
        "def convertMaxHeap(arr, N):\n",
        " \n",
        "    # Start from bottommost and rightmost\n",
        "    # internal mode and heapify all\n",
        "    # internal modes in bottom up way\n",
        "    for i in range(int((N - 2) / 2), -1, -1):\n",
        "      printArray(arr, N)\n",
        "      MaxHeapify(arr, i, N)\n",
        " \n",
        "# A utility function to print a\n",
        "# given array of given size\n",
        " \n",
        " \n",
        "def printArray(arr, size):\n",
        "    for i in range(size):\n",
        "        print(arr[i], end=\" \")\n",
        "    print()\n",
        " \n",
        " \n",
        "# Driver Code\n",
        "if __name__ == '__main__':\n",
        " \n",
        "    # array representing Min Heap\n",
        "    arr = [3, 5, 9, 6, 8, 20, 10, 12, 18, 9]\n",
        "    N = len(arr)\n",
        " \n",
        "    print(\"Min Heap array : \")\n",
        "    printArray(arr, N)\n",
        " \n",
        "    # Function call\n",
        "    convertMaxHeap(arr, N)\n",
        " \n",
        "    print(\"Max Heap array : \")\n",
        "    printArray(arr, N)\n",
        " \n",
        "# This code is contributed by PranchalK"
      ],
      "metadata": {
        "colab": {
          "base_uri": "https://localhost:8080/"
        },
        "id": "TNCVwRzHY94D",
        "outputId": "60f62697-2130-4c76-9080-1b61c00a9462"
      },
      "execution_count": 11,
      "outputs": [
        {
          "output_type": "stream",
          "name": "stdout",
          "text": [
            "Min Heap array : \n",
            "3 5 9 6 8 20 10 12 18 9 \n",
            "3 5 9 6 8 20 10 12 18 9 \n",
            "3 5 9 6 9 20 10 12 18 8 \n",
            "3 5 9 18 9 20 10 12 6 8 \n",
            "3 5 20 18 9 9 10 12 6 8 \n",
            "3 18 20 12 9 9 10 5 6 8 \n",
            "Max Heap array : \n",
            "20 18 10 12 9 9 3 5 6 8 \n"
          ]
        }
      ]
    },
    {
      "cell_type": "markdown",
      "source": [
        "Graphs"
      ],
      "metadata": {
        "id": "hB8DxpaG5Rgp"
      }
    },
    {
      "cell_type": "code",
      "source": [
        "# Python3 Program to print BFS traversal\n",
        "# from a given source vertex. BFS(int s)\n",
        "# traverses vertices reachable from s.\n",
        "from collections import defaultdict\n",
        " \n",
        "# This class represents a directed graph\n",
        "# using adjacency list representation\n",
        "class Graph:\n",
        " \n",
        "    # Constructor\n",
        "    def __init__(self):\n",
        " \n",
        "        # default dictionary to store graph\n",
        "        self.graph = defaultdict(list)\n",
        " \n",
        "    # function to add an edge to graph\n",
        "    def addEdge(self,u,v):\n",
        "        self.graph[u].append(v)\n",
        " \n",
        "    # Function to print a BFS of graph\n",
        "    def BFS(self, s):\n",
        " \n",
        "        # Mark all the vertices as not visited\n",
        "        visited = [False] * (max(self.graph) + 1)\n",
        " \n",
        "        # Create a queue for BFS\n",
        "        queue = []\n",
        " \n",
        "        # Mark the source node as\n",
        "        # visited and enqueue it\n",
        "        queue.append(s)\n",
        "        visited[s] = True\n",
        " \n",
        "        while queue:\n",
        " \n",
        "            # Dequeue a vertex from\n",
        "            # queue and print it\n",
        "            s = queue.pop(0)\n",
        "            print (s, end = \" \")\n",
        " \n",
        "            # Get all adjacent vertices of the\n",
        "            # dequeued vertex s. If a adjacent\n",
        "            # has not been visited, then mark it\n",
        "            # visited and enqueue it\n",
        "            for i in self.graph[s]:\n",
        "                if visited[i] == False:\n",
        "                    queue.append(i)\n",
        "                    visited[i] = True\n",
        " \n",
        "# Driver code\n",
        " \n",
        "# Create a graph given in\n",
        "# the above diagram\n",
        "g = Graph()\n",
        "g.addEdge(0, 1)\n",
        "g.addEdge(0, 2)\n",
        "g.addEdge(1, 2)\n",
        "g.addEdge(2, 0)\n",
        "g.addEdge(2, 3)\n",
        "g.addEdge(3, 3)\n",
        "\n",
        "print (\"Following is Breadth First Traversal\"\n",
        "                  \" (starting from vertex 2)\")\n",
        "\n",
        "print(g.graph)\n",
        "g.BFS(2)\n",
        " \n",
        "# This code is contributed by Neelam Yadav"
      ],
      "metadata": {
        "colab": {
          "base_uri": "https://localhost:8080/"
        },
        "id": "6J6dfkFzy-Gp",
        "outputId": "344cbe85-3d34-480f-8748-b1f4d0e0e140"
      },
      "execution_count": 1,
      "outputs": [
        {
          "output_type": "stream",
          "name": "stdout",
          "text": [
            "Following is Breadth First Traversal (starting from vertex 2)\n",
            "defaultdict(<class 'list'>, {0: [1, 2], 1: [2], 2: [0, 3], 3: [3]})\n",
            "2 0 3 1 "
          ]
        }
      ]
    },
    {
      "cell_type": "code",
      "source": [],
      "metadata": {
        "id": "9IMsZm4m5vL5"
      },
      "execution_count": null,
      "outputs": []
    }
  ],
  "metadata": {
    "colab": {
      "collapsed_sections": [],
      "name": "TensorFlow with GPU",
      "provenance": [],
      "include_colab_link": true
    },
    "kernelspec": {
      "display_name": "Python 3",
      "name": "python3"
    }
  },
  "nbformat": 4,
  "nbformat_minor": 0
}