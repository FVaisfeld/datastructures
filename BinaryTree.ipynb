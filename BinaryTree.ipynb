{
  "cells": [
    {
      "cell_type": "markdown",
      "metadata": {
        "id": "view-in-github",
        "colab_type": "text"
      },
      "source": [
        "<a href=\"https://colab.research.google.com/github/FVaisfeld/datastructures/blob/main/BinaryTree.ipynb\" target=\"_parent\"><img src=\"https://colab.research.google.com/assets/colab-badge.svg\" alt=\"Open In Colab\"/></a>"
      ]
    },
    {
      "cell_type": "code",
      "source": [
        "#!/usr/bin/python\n",
        "\n",
        "class Node:\n",
        "    def __init__(self, val):\n",
        "        self.l = None\n",
        "        self.r = None\n",
        "        self.v = val\n",
        "\n",
        "class Tree:\n",
        "    def __init__(self):\n",
        "        self.root = None\n",
        "\n",
        "    def getRoot(self):\n",
        "        return self.root\n",
        "\n",
        "    def add(self, val):\n",
        "        if self.root is None:\n",
        "            self.root = Node(val)\n",
        "        else:\n",
        "            self._add(val, self.root)\n",
        "\n",
        "    def _add(self, val, node):\n",
        "        if val < node.v:\n",
        "            if node.l is not None:\n",
        "                self._add(val, node.l)\n",
        "            else:\n",
        "                node.l = Node(val)\n",
        "        else:\n",
        "            if node.r is not None:\n",
        "                self._add(val, node.r)\n",
        "            else:\n",
        "                node.r = Node(val)\n",
        "\n",
        "    def find(self, val):\n",
        "        if self.root is not None:\n",
        "            return self._find(val, self.root)\n",
        "        else:\n",
        "            return None\n",
        "\n",
        "    def _find(self, val, node):\n",
        "        if val == node.v:\n",
        "            return node\n",
        "        elif (val < node.v and node.l is not None):\n",
        "            return self._find(val, node.l)\n",
        "        elif (val > node.v and node.r is not None):\n",
        "            return self._find(val, node.r)\n",
        "\n",
        "    def deleteTree(self):\n",
        "        # garbage collector will do this for us. \n",
        "        self.root = None\n",
        "\n",
        "    def printTree(self):\n",
        "        if self.root is not None:\n",
        "            self._printTree(self.root)\n",
        "\n",
        "    def _printTree(self, node):\n",
        "        if node is not None:\n",
        "            self._printTree(node.l)\n",
        "            print(str(node.v) + ' ')\n",
        "            self._printTree(node.r)"
      ],
      "metadata": {
        "id": "keVjeyUfXA2_"
      },
      "execution_count": 13,
      "outputs": []
    },
    {
      "cell_type": "code",
      "source": [
        "#     3\n",
        "# 0     4\n",
        "#   2      8\n",
        "tree = Tree()\n",
        "tree.add(3)\n",
        "tree.add(4)\n",
        "tree.add(0)\n",
        "tree.add(8)\n",
        "tree.add(2)\n",
        "#tree.printTree()\n",
        "#print(tree.find(3).v)\n",
        "#print(tree.find(10))\n",
        "#tree.deleteTree()\n",
        "tree.printTree()"
      ],
      "metadata": {
        "colab": {
          "base_uri": "https://localhost:8080/"
        },
        "id": "bgNk54E-XDIF",
        "outputId": "0b4af7fc-af88-4868-cb17-f9fdd0821f81"
      },
      "execution_count": 14,
      "outputs": [
        {
          "output_type": "stream",
          "name": "stdout",
          "text": [
            "0 \n",
            "2 \n",
            "3 \n",
            "4 \n",
            "8 \n"
          ]
        }
      ]
    },
    {
      "cell_type": "code",
      "source": [],
      "metadata": {
        "id": "TNCVwRzHY94D"
      },
      "execution_count": null,
      "outputs": []
    }
  ],
  "metadata": {
    "colab": {
      "collapsed_sections": [],
      "name": "TensorFlow with GPU",
      "provenance": [],
      "include_colab_link": true
    },
    "kernelspec": {
      "display_name": "Python 3",
      "name": "python3"
    }
  },
  "nbformat": 4,
  "nbformat_minor": 0
}